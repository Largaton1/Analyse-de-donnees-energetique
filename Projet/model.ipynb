{
 "cells": [
  {
   "cell_type": "code",
   "execution_count": 1,
   "metadata": {},
   "outputs": [
    {
     "name": "stdout",
     "output_type": "stream",
     "text": [
      "  Mois;Consommation (MWh)\n",
      "0           Janvier;45000\n",
      "1           Février;42000\n",
      "2              Mars;43000\n",
      "3             Avril;41000\n",
      "4               Mai;40000\n"
     ]
    }
   ],
   "source": [
    "import pandas as pd\n",
    "\n",
    "# Chargement des données\n",
    "df = pd.read_csv('consommation_energetique.csv')\n",
    "\n",
    "# Affichage des premières lignes du DataFrame\n",
    "print(df.head())\n"
   ]
  },
  {
   "cell_type": "code",
   "execution_count": null,
   "metadata": {},
   "outputs": [],
   "source": [
    "# Statistiques descriptives\n",
    "moy_consommation = df['Consommation (MWh)'].mean()\n",
    "mediane_consommation = df['Consommation (MWh)'].median()\n",
    "ecart_consommation = df['Consommation (MWh)'].std()\n",
    "min_consommation = df['Consommation (MWh)'].min()\n",
    "max_consommation = df['Consommation (MWh)'].max()\n",
    "\n",
    "print(f\"Moyenne: {moy_consommation} MWh\")\n",
    "print(f\"Médiane: {mediane_consommation} MWh\")\n",
    "print(f\"Écart-type: {ecart_consommation} MWh\")\n",
    "print(f\"Minimum: {min_consommation} MWh\")\n",
    "print(f\"Maximum: {max_consommation} MWh\")\n"
   ]
  }
 ],
 "metadata": {
  "kernelspec": {
   "display_name": "Python 3",
   "language": "python",
   "name": "python3"
  },
  "language_info": {
   "codemirror_mode": {
    "name": "ipython",
    "version": 3
   },
   "file_extension": ".py",
   "mimetype": "text/x-python",
   "name": "python",
   "nbconvert_exporter": "python",
   "pygments_lexer": "ipython3",
   "version": "3.11.0"
  }
 },
 "nbformat": 4,
 "nbformat_minor": 2
}
